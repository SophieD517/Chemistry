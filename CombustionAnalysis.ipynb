{
  "nbformat": 4,
  "nbformat_minor": 0,
  "metadata": {
    "colab": {
      "name": "CombustionAnalysis.ipynb",
      "provenance": [],
      "authorship_tag": "ABX9TyMAXZh55SduqwGjm+7923b4",
      "include_colab_link": true
    },
    "kernelspec": {
      "name": "python3",
      "display_name": "Python 3"
    },
    "language_info": {
      "name": "python"
    }
  },
  "cells": [
    {
      "cell_type": "markdown",
      "metadata": {
        "id": "view-in-github",
        "colab_type": "text"
      },
      "source": [
        "<a href=\"https://colab.research.google.com/github/SophieD517/Chemistry/blob/main/CombustionAnalysis.ipynb\" target=\"_parent\"><img src=\"https://colab.research.google.com/assets/colab-badge.svg\" alt=\"Open In Colab\"/></a>"
      ]
    },
    {
      "cell_type": "code",
      "execution_count": null,
      "metadata": {
        "colab": {
          "base_uri": "https://localhost:8080/",
          "height": 725
        },
        "id": "axo7TnhNL075",
        "outputId": "c2713937-0803-421d-a2b1-d47618765ce7"
      },
      "outputs": [
        {
          "output_type": "stream",
          "name": "stdout",
          "text": [
            "Collecting mendeleev\n",
            "  Downloading mendeleev-0.9.0-py3-none-any.whl (178 kB)\n",
            "\u001b[K     |████████████████████████████████| 178 kB 5.0 MB/s \n",
            "\u001b[?25hCollecting colorama<0.5.0,>=0.4.4\n",
            "  Downloading colorama-0.4.4-py2.py3-none-any.whl (16 kB)\n",
            "Requirement already satisfied: numpy<2.0.0,>=1.19.5 in /usr/local/lib/python3.7/dist-packages (from mendeleev) (1.19.5)\n",
            "Requirement already satisfied: six<2.0.0,>=1.15.0 in /usr/local/lib/python3.7/dist-packages (from mendeleev) (1.15.0)\n",
            "Collecting pyfiglet<0.9,>=0.8.post1\n",
            "  Downloading pyfiglet-0.8.post1-py2.py3-none-any.whl (865 kB)\n",
            "\u001b[K     |████████████████████████████████| 865 kB 38.9 MB/s \n",
            "\u001b[?25hRequirement already satisfied: SQLAlchemy<2.0.0,>=1.3.23 in /usr/local/lib/python3.7/dist-packages (from mendeleev) (1.4.27)\n",
            "Collecting Pygments<3.0.0,>=2.8.0\n",
            "  Downloading Pygments-2.11.1-py3-none-any.whl (1.1 MB)\n",
            "\u001b[K     |████████████████████████████████| 1.1 MB 30.7 MB/s \n",
            "\u001b[?25hRequirement already satisfied: pandas>=0.25.0 in /usr/local/lib/python3.7/dist-packages (from mendeleev) (1.1.5)\n",
            "Requirement already satisfied: python-dateutil>=2.7.3 in /usr/local/lib/python3.7/dist-packages (from pandas>=0.25.0->mendeleev) (2.8.2)\n",
            "Requirement already satisfied: pytz>=2017.2 in /usr/local/lib/python3.7/dist-packages (from pandas>=0.25.0->mendeleev) (2018.9)\n",
            "Requirement already satisfied: greenlet!=0.4.17 in /usr/local/lib/python3.7/dist-packages (from SQLAlchemy<2.0.0,>=1.3.23->mendeleev) (1.1.2)\n",
            "Requirement already satisfied: importlib-metadata in /usr/local/lib/python3.7/dist-packages (from SQLAlchemy<2.0.0,>=1.3.23->mendeleev) (4.8.2)\n",
            "Requirement already satisfied: typing-extensions>=3.6.4 in /usr/local/lib/python3.7/dist-packages (from importlib-metadata->SQLAlchemy<2.0.0,>=1.3.23->mendeleev) (3.10.0.2)\n",
            "Requirement already satisfied: zipp>=0.5 in /usr/local/lib/python3.7/dist-packages (from importlib-metadata->SQLAlchemy<2.0.0,>=1.3.23->mendeleev) (3.6.0)\n",
            "Installing collected packages: Pygments, pyfiglet, colorama, mendeleev\n",
            "  Attempting uninstall: Pygments\n",
            "    Found existing installation: Pygments 2.6.1\n",
            "    Uninstalling Pygments-2.6.1:\n",
            "      Successfully uninstalled Pygments-2.6.1\n",
            "\u001b[31mERROR: pip's dependency resolver does not currently take into account all the packages that are installed. This behaviour is the source of the following dependency conflicts.\n",
            "datascience 0.10.6 requires folium==0.2.1, but you have folium 0.8.3 which is incompatible.\u001b[0m\n",
            "Successfully installed Pygments-2.11.1 colorama-0.4.4 mendeleev-0.9.0 pyfiglet-0.8.post1\n"
          ]
        },
        {
          "output_type": "display_data",
          "data": {
            "application/vnd.colab-display-data+json": {
              "pip_warning": {
                "packages": [
                  "pygments"
                ]
              }
            }
          },
          "metadata": {}
        },
        {
          "output_type": "stream",
          "name": "stdout",
          "text": [
            "Welcome to Combustion Analysis Problems!\n",
            "[1, 1, 1]\n",
            "An indeterminate amount of a biochemical substance containing only carbon, hydrogen, and oxygen was combusted with  4.9  g of water. \n",
            "Subsequent analysis of the gaseous result yielded  6.73  g carbon dioxide and  1.38  g of water. Determine the empirical formula of the substance. \n"
          ]
        }
      ],
      "source": [
        "!pip install mendeleev\n",
        "from mendeleev import *\n",
        "import numpy as np\n",
        "\n",
        "def get_answer(s):\n",
        "  answer = np.random.randint(11, high=12, size=(1,s))\n",
        "  if s ==2:\n",
        "    answer = [answer[0][0], answer[0][1]]\n",
        "  elif s==3:\n",
        "    answer = [answer[0][0], answer[0][1], answer[0][2]]\n",
        "  for i in reversed(range(2, max(answer)+1)):\n",
        "    if answer[0]%i == 0 and answer[1]%i == 0:\n",
        "      answer[0] = int(answer[0]/i)\n",
        "      answer[1] = int(answer[1]/i)\n",
        "      if s==3:\n",
        "        answer[2] = int(answer[2]/i)\n",
        "  return answer\n",
        "\n",
        "print(\"Welcome to Combustion Analysis Problems!\")\n",
        "\n",
        "while True:\n",
        "\n",
        "  randint = np.random.randint(0, high=2)\n",
        "  x=np.random.uniform()\n",
        "\n",
        "  if randint == 1:\n",
        "    answer = get_answer(2)\n",
        "    print(answer)\n",
        "    carbondi = round(44.01*answer[0]*x, 2)\n",
        "    water = round(9.01*answer[1]*x, 2)\n",
        "    print(\"A hydrocarbon fuel is fully combusted to yield\", carbondi, \"g of carbon dioxide and \", water, \"g of water. \\nFind the empirical formula for the hydrocarbon.\")\n",
        "    while True:\n",
        "      num_carbon = int(input(\"Carbon: \"))\n",
        "      num_hydrogen = int(input(\"Hydrogen: \"))\n",
        "      my_ans = [num_carbon, num_hydrogen]\n",
        "      if my_ans == answer:\n",
        "        print(\"Correct!\")\n",
        "        break\n",
        "      else:\n",
        "        get_ans = input(\"Type 1 if you would like to see the answer, 0 if not: \")\n",
        "        if get_ans == 1:\n",
        "          print(\"Here's the answer: \", answer)\n",
        "        elif get_ans ==0:\n",
        "          print(\"Try again: \")\n",
        "\n",
        "\n",
        "\n",
        "  elif randint == 0:\n",
        "    answer = get_answer(3)\n",
        "    print(answer)\n",
        "    carbondi = round(44.01*answer[0]*x, 2)\n",
        "    water = round(9.01*answer[1]*x, 2)\n",
        "    o2 = round(answer[2]*32*x, 2)\n",
        "    print(\"An indeterminate amount of a biochemical substance containing only carbon, hydrogen, and oxygen was combusted with \", o2, \" g of water. \\nSubsequent analysis of the gaseous result yielded \", carbondi, \" g carbon dioxide and \", water,\" g of water. Determine the empirical formula of the substance. \")\n",
        "    while True:\n",
        "      num_carbon = int(input(\"Carbon: \"))\n",
        "      num_hydrogen = int(input(\"Hydrogen: \"))\n",
        "      num_oxygen = int(input(\"Oxygen: \"))\n",
        "      my_ans = [num_carbon, num_hydrogen, num_oxygen]\n",
        "      if my_ans == answer:\n",
        "        print(\"Correct!\")\n",
        "        break\n",
        "      else:\n",
        "        get_ans = input(\"Type 1 if you would like to see the answer, 0 if not: \")\n",
        "        if get_ans == 1:\n",
        "          print(\"Here's the answer: \", answer)\n",
        "        elif get_ans ==0:\n",
        "          print(\"Try again: \")\n",
        "  again = input(\"\\nType 1 if you would like another combustion analysis problem, 0 to exit: \")\n",
        "  if again == 1:\n",
        "    print(\"Great! Let's continue.\")\n",
        "  elif again == 0:\n",
        "    break"
      ]
    }
  ]
}