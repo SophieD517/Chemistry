def get_answer(s):
  answer = np.random.randint(11, high=12, size=(1,s))
  if s ==2:
    answer = [answer[0][0], answer[0][1]]
  elif s==3:
    answer = [answer[0][0], answer[0][1], answer[0][2]]
  for i in reversed(range(2, max(answer)+1)):
    if answer[0]%i == 0 and answer[1]%i == 0:
      answer[0] = int(answer[0]/i)
      answer[1] = int(answer[1]/i)
      if s==3:
        answer[2] = int(answer[2]/i)
  return answer

print("Welcome to Combustion Analysis Problems!")

while True:

  randint = np.random.randint(0, high=2)
  x=np.random.uniform()

  if randint == 1:
    answer = get_answer(2)
    print(answer)
    carbondi = round(44.01*answer[0]*x, 2)
    water = round(9.01*answer[1]*x, 2)
    print("A hydrocarbon fuel is fully combusted to yield", carbondi, "g of carbon dioxide and ", water, "g of water. \nFind the empirical formula for the hydrocarbon.")
    while True:
      num_carbon = int(input("Carbon: "))
      num_hydrogen = int(input("Hydrogen: "))
      my_ans = [num_carbon, num_hydrogen]
      if my_ans == answer:
        print("Correct!")
        break
      else:
        get_ans = input("Type 1 if you would like to see the answer, 0 if not: ")
        if get_ans == 1:
          print("Here's the answer: ", answer)
        elif get_ans ==0:
          print("Try again: ")



  elif randint == 0:
    answer = get_answer(3)
    print(answer)
    carbondi = round(44.01*answer[0]*x, 2)
    water = round(9.01*answer[1]*x, 2)
    o2 = round(answer[2]*32*x, 2)
    print("An indeterminate amount of a biochemical substance containing only carbon, hydrogen, and oxygen was combusted with ", o2, " g of water. \nSubsequent analysis of the gaseous result yielded ", carbondi, " g carbon dioxide and ", water," g of water. Determine the empirical formula of the substance. ")
    while True:
      num_carbon = int(input("Carbon: "))
      num_hydrogen = int(input("Hydrogen: "))
      num_oxygen = int(input("Oxygen: "))
      my_ans = [num_carbon, num_hydrogen, num_oxygen]
      if my_ans == answer:
        print("Correct!")
        break
      else:
        get_ans = input("Type 1 if you would like to see the answer, 0 if not: ")
        if get_ans == 1:
          print("Here's the answer: ", answer)
        elif get_ans ==0:
          print("Try again: ")
  again = input("\nType 1 if you would like another combustion analysis problem, 0 to exit: ")
  if again == 1:
    print("Great! Let's continue.")
  elif again == 0:
    break
